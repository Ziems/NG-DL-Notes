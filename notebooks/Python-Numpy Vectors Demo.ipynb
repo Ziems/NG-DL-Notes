{
 "cells": [
  {
   "cell_type": "code",
   "execution_count": 1,
   "metadata": {
    "collapsed": false
   },
   "outputs": [
    {
     "name": "stdout",
     "output_type": "stream",
     "text": [
      "[-0.07081988  1.54618823 -0.11823879  0.25852273  0.39903314]\n"
     ]
    }
   ],
   "source": [
    "import numpy as np\n",
    "\n",
    "a = np.random.randn(5)\n",
    "print(a)"
   ]
  },
  {
   "cell_type": "code",
   "execution_count": 2,
   "metadata": {
    "collapsed": false
   },
   "outputs": [
    {
     "name": "stdout",
     "output_type": "stream",
     "text": [
      "(5,)\n"
     ]
    }
   ],
   "source": [
    "# Here, the vector a is what they call a rank 1 array in numpy. This is bad\n",
    "# You can tell its a rank 1 array because there is nothing after the comma\n",
    "print(a.shape)"
   ]
  },
  {
   "cell_type": "code",
   "execution_count": 5,
   "metadata": {
    "collapsed": false
   },
   "outputs": [
    {
     "name": "stdout",
     "output_type": "stream",
     "text": [
      "[-0.07081988  1.54618823 -0.11823879  0.25852273  0.39903314]\n",
      "2.63575535823\n"
     ]
    }
   ],
   "source": [
    "# Lots of unintuitive things happen when you use rank 1 arrays\n",
    "\n",
    "# The transpose of a rank 1 array is the exact same\n",
    "print(a.T)\n",
    "\n",
    "# One might expect this to output a matrix, but it does not.\n",
    "print(np.dot(a, a.T))"
   ]
  },
  {
   "cell_type": "code",
   "execution_count": 12,
   "metadata": {
    "collapsed": false
   },
   "outputs": [
    {
     "name": "stdout",
     "output_type": "stream",
     "text": [
      "(5, 1)\n",
      "\n",
      "[[-2.33868612]\n",
      " [-0.24153268]\n",
      " [-0.46302135]\n",
      " [ 0.26893422]\n",
      " [-1.14516854]]\n",
      "\n",
      "[[-2.33868612 -0.24153268 -0.46302135  0.26893422 -1.14516854]]\n",
      "\n",
      "[[ 5.46945277  0.56486913  1.08286162 -0.62895273  2.67818978]\n",
      " [ 0.56486913  0.05833804  0.11183479 -0.0649564   0.27659563]\n",
      " [ 1.08286162  0.11183479  0.21438878 -0.12452229  0.53023749]\n",
      " [-0.62895273 -0.0649564  -0.12452229  0.07232561 -0.30797501]\n",
      " [ 2.67818978  0.27659563  0.53023749 -0.30797501  1.31141099]]\n"
     ]
    }
   ],
   "source": [
    "# These errors can be fixed by giving your vectors a formal shape when you make them:\n",
    "a = np.random.randn(5, 1)\n",
    "print(a.shape)\n",
    "print\n",
    "print(a)\n",
    "print\n",
    "print(a.T)\n",
    "print\n",
    "print(a.dot(a.T))\n",
    "\n",
    "# You can tell a now is not a rank 1 array because when you print it out, it has 2 sets of square brackets\n",
    "# Also, when you print out the shape, there is not a floating comma"
   ]
  },
  {
   "cell_type": "code",
   "execution_count": null,
   "metadata": {
    "collapsed": true
   },
   "outputs": [],
   "source": []
  }
 ],
 "metadata": {
  "kernelspec": {
   "display_name": "Python 2",
   "language": "python",
   "name": "python2"
  },
  "language_info": {
   "codemirror_mode": {
    "name": "ipython",
    "version": 2
   },
   "file_extension": ".py",
   "mimetype": "text/x-python",
   "name": "python",
   "nbconvert_exporter": "python",
   "pygments_lexer": "ipython2",
   "version": "2.7.13"
  }
 },
 "nbformat": 4,
 "nbformat_minor": 0
}
